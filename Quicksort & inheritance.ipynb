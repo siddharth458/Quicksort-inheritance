{
 "cells": [
  {
   "cell_type": "code",
   "execution_count": 5,
   "id": "1a0b8627",
   "metadata": {},
   "outputs": [
    {
     "name": "stdout",
     "output_type": "stream",
     "text": [
      "UNSORTED: 10 2 78 4 45 32 7 11 \n",
      "SORTED: 2 4 7 10 11 32 45 78 \n"
     ]
    }
   ],
   "source": [
    "def partition(numbers, i, k):\n",
    "    #  Pick middle element as pivot \n",
    "    midpoint = i + (k - i) // 2\n",
    "    pivot = numbers[midpoint]\n",
    "\n",
    "    #  Initialize variables\n",
    "    done = False\n",
    "    l = i\n",
    "    h = k\n",
    "    while not done:\n",
    "        #  Increment l while numbers[l] < pivot \n",
    "        while numbers[l] < pivot:\n",
    "            l = l + 1\n",
    "        #  Decrement h while pivot < numbers[h] \n",
    "        while pivot < numbers[h]:\n",
    "            h = h - 1\n",
    "        \"\"\"  If there are zero or one items remaining,\n",
    "              all numbers are partitioned. Return h \"\"\"\n",
    "        if l >= h:\n",
    "            done = True\n",
    "        else:\n",
    "            \"\"\"  Swap numbers[l] and numbers[h],\n",
    "                  update l and h \"\"\" \n",
    "            temp = numbers[l]\n",
    "            numbers[l] = numbers[h]\n",
    "            numbers[h] = temp\n",
    "            l = l + 1\n",
    "            h = h - 1\n",
    "    return h\n",
    "\n",
    "\n",
    "def quicksort(numbers, i, k):\n",
    "    j = 0\n",
    "    \"\"\"  Base case: If there are 1 or zero entries to sort,\n",
    "          partition is already sorted  \"\"\" \n",
    "    if i >= k:\n",
    "        return\n",
    "    \"\"\"  Partition the data within the array. Value j returned\n",
    "          from partitioning is location of last item in low partition. \"\"\" \n",
    "    j = partition(numbers, i, k)\n",
    "    \"\"\"  Recursively sort low partition (i to j) and\n",
    "          high partition (j + 1 to k) \"\"\"\n",
    "    quicksort(numbers, i, j)\n",
    "    quicksort(numbers, j + 1, k)\n",
    "    return\n",
    "\n",
    "\n",
    "numbers = [10, 2, 78, 4, 45, 32, 7, 11]\n",
    "print ('UNSORTED:', end=' ')\n",
    "for num in numbers:\n",
    "    print (str(num), end=' ')\n",
    "print()\n",
    "\n",
    "#  Initial call to quicksort \n",
    "quicksort(numbers, 0, len(numbers) - 1)\n",
    "print ('SORTED:', end=' ')\n",
    "for num in numbers:\n",
    "    print (str(num), end=' ')\n",
    "print()"
   ]
  },
  {
   "cell_type": "code",
   "execution_count": 6,
   "id": "311ec6b6",
   "metadata": {},
   "outputs": [
    {
     "name": "stdout",
     "output_type": "stream",
     "text": [
      "1\n",
      "2\n"
     ]
    }
   ],
   "source": [
    "i = 1\n",
    "while True:\n",
    "    if i%3 == 0:\n",
    "        break\n",
    "    print(i)\n",
    " \n",
    "    i += 1"
   ]
  },
  {
   "cell_type": "code",
   "execution_count": 41,
   "id": "dd586017",
   "metadata": {},
   "outputs": [],
   "source": [
    "class schoolmember:\n",
    "    \n",
    "    def __init__(self,name,age):\n",
    "        self.name=name\n",
    "        self.age=age\n",
    "        print('initialized schoolmember:',self.name)\n",
    "    def tell(self):\n",
    "        print('Name:{} Age:{}'.format(self.name, self.age))\n"
   ]
  },
  {
   "cell_type": "code",
   "execution_count": 57,
   "id": "f792728b",
   "metadata": {},
   "outputs": [],
   "source": [
    "class teacher(schoolmember):\n",
    "    def __init__(self,name,age,salary):\n",
    "        schoolmember.__init__(self,name,age)\n",
    "        self.salary = salary\n",
    "        print('initialized teacher:',self.name)\n",
    "\n",
    "    def tell(self):\n",
    "        schoolmember.tell(self)\n",
    "        print('salary:',self.salary)"
   ]
  },
  {
   "cell_type": "code",
   "execution_count": 55,
   "id": "6dc284a3",
   "metadata": {},
   "outputs": [],
   "source": [
    "\n",
    "class student(schoolmember):\n",
    "    def __init__(self,name,age,marks):\n",
    "        schoolmember.__init__(self,name,age)\n",
    "        self.marks = marks\n",
    "        print('initialized student:',self.name)\n",
    "        \n",
    "    def tell(self):\n",
    "        schoolmember.tell(self)\n",
    "        print('marks:',self.marks)"
   ]
  },
  {
   "cell_type": "code",
   "execution_count": 58,
   "id": "3f9d624e",
   "metadata": {},
   "outputs": [
    {
     "name": "stdout",
     "output_type": "stream",
     "text": [
      "initialized schoolmember: Mr.sid\n",
      "initialized teacher: Mr.sid\n"
     ]
    }
   ],
   "source": [
    "t=teacher('Mr.sid', 40, 300000)"
   ]
  },
  {
   "cell_type": "code",
   "execution_count": 51,
   "id": "dc2bfc61",
   "metadata": {},
   "outputs": [
    {
     "name": "stdout",
     "output_type": "stream",
     "text": [
      "Name:Mr.sid Age:40\n",
      "salary: 300000\n"
     ]
    }
   ],
   "source": [
    "t.tell()"
   ]
  },
  {
   "cell_type": "code",
   "execution_count": 56,
   "id": "54662ca1",
   "metadata": {},
   "outputs": [
    {
     "name": "stdout",
     "output_type": "stream",
     "text": [
      "initialized schoolmember: sid\n",
      "initialized student: sid\n"
     ]
    }
   ],
   "source": [
    "s=student('sid',25,75)"
   ]
  },
  {
   "cell_type": "code",
   "execution_count": 54,
   "id": "b97c840a",
   "metadata": {},
   "outputs": [
    {
     "name": "stdout",
     "output_type": "stream",
     "text": [
      "Name:sid Age:25\n",
      "marks: 75\n"
     ]
    }
   ],
   "source": [
    "s.tell()"
   ]
  }
 ],
 "metadata": {
  "kernelspec": {
   "display_name": "Python 3 (ipykernel)",
   "language": "python",
   "name": "python3"
  },
  "language_info": {
   "codemirror_mode": {
    "name": "ipython",
    "version": 3
   },
   "file_extension": ".py",
   "mimetype": "text/x-python",
   "name": "python",
   "nbconvert_exporter": "python",
   "pygments_lexer": "ipython3",
   "version": "3.9.12"
  }
 },
 "nbformat": 4,
 "nbformat_minor": 5
}
